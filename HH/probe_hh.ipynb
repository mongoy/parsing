{
 "cells": [
  {
   "cell_type": "code",
   "execution_count": 9,
   "id": "ae7d3f04-3a77-4a27-b56b-a18fcc6df72b",
   "metadata": {},
   "outputs": [],
   "source": [
    "import requests\n",
    "from bs4 import BeautifulSoup as bs\n",
    "import collections\n",
    "import time"
   ]
  },
  {
   "cell_type": "code",
   "execution_count": 10,
   "id": "02d75cbd-cfd0-4624-8f41-474c46da3b40",
   "metadata": {},
   "outputs": [],
   "source": [
    "HOST = 'https://chita.hh.ru/'\n",
    "\n",
    "URL = 'https://chita.hh.ru/search/vacancy?st=searchVacancy&text=data+engineer&area=113&salary=&currency_code=RUR&' \\\n",
    "      'experience=doesNotMatter&schedule=remote&order_by=publication_time&search_period=3&items_on_page=20&' \\\n",
    "      'no_magic=true&L_save_area=true&page='\n",
    "\n",
    "HEADERS = {\n",
    "    'Host': 'chita.hh.ru',\n",
    "    'User-agent': 'Mozilla/5.0',\n",
    "    'Accept': '*/*',\n",
    "    'Content-type': 'application/text',\n",
    "    'Connection': 'keep-alive'\n",
    "}"
   ]
  },
  {
   "cell_type": "code",
   "execution_count": 13,
   "id": "c4c80d51-a5eb-4a55-a021-76981ebb27f6",
   "metadata": {
    "tags": []
   },
   "outputs": [],
   "source": [
    "def get_page_bs(url, params=''):\n",
    "    page_obj = requests.get(url + '0', headers=HEADERS, params=params)\n",
    "    page_txt = page_obj.text\n",
    "    page_bs = bs(page_txt)\n",
    "    return page_bs"
   ]
  },
  {
   "cell_type": "code",
   "execution_count": 14,
   "id": "fa352f4b-431b-4358-87ff-53bb7410e18f",
   "metadata": {
    "tags": []
   },
   "outputs": [],
   "source": [
    "page_bs = get_page_bs(URL)\n",
    "# print(page_bs)"
   ]
  },
  {
   "cell_type": "code",
   "execution_count": 15,
   "id": "19613d75-5d63-4e4f-82d2-6a6ffebc65ad",
   "metadata": {},
   "outputs": [
    {
     "name": "stdout",
     "output_type": "stream",
     "text": [
      "11\n"
     ]
    }
   ],
   "source": [
    "# количество страниц пагинации\n",
    "def get_pages_num(page_bs):\n",
    "    try:\n",
    "        return int(page_bs.find_all(\"span\", class_=\"pager-item-not-in-short-range\")[-1].text.strip())\n",
    "    except:\n",
    "        # нет paginator'a, значит, есть только одна страница\n",
    "        return 1\n",
    "\n",
    "PAGES = get_pages_num(page_bs)\n",
    "print(PAGES)"
   ]
  },
  {
   "cell_type": "code",
   "execution_count": 54,
   "id": "22df7173-2597-453f-9af2-75e0ff678e44",
   "metadata": {},
   "outputs": [],
   "source": [
    "def get_all_pages(base_url):\n",
    "    print('Загружаю первую страницу')\n",
    "    page_0_bs = get_page_bs(base_url)\n",
    "    yield page_0_bs\n",
    "    \n",
    "    n = get_pages_num(page_0_bs)\n",
    "    for i in range(1, n):\n",
    "        url = base_url + '&p=' + str(i)\n",
    "        print('Загружаю страницу номер', i)\n",
    "        page_i_bs = get_page_bs(url)\n",
    "        yield(page_i_bs)"
   ]
  },
  {
   "cell_type": "markdown",
   "id": "623f5aac-d726-40f5-b21b-e0a968365d92",
   "metadata": {},
   "source": [
    "### Разбор одной страницы"
   ]
  },
  {
   "cell_type": "code",
   "execution_count": 172,
   "id": "ecba3ae0-d274-4da1-9374-fb047f6a22dd",
   "metadata": {
    "tags": []
   },
   "outputs": [],
   "source": [
    "def get_data(page_bs):\n",
    "    # Соберём в виде словаря списков, каждый список - отдельная колонка\n",
    "    res = collections.defaultdict(list)\n",
    "    \n",
    "    #\n",
    "    names = ['vacancy-serp-item']\n",
    "    tags = page_bs.find_all('div', class_=names[0])\n",
    "\n",
    "    for tag in tags:\n",
    "        vacancy_name = tag.find(\"a\", class_=\"bloko-link\")  # vacancy name\n",
    "        vacancy_compensation = tag.find(\"div\", class_=\"vacancy-serp-item__sidebar\").text\n",
    "        if vacancy_compensation is None:\n",
    "            vacancy_compensation = '-'\n",
    "               \n",
    "        vacancy_url = vacancy_name[\"href\"] # link vacancy\n",
    "        if vacancy_url is None:\n",
    "            vacancy_url = '-'\n",
    "        \n",
    "        vacancy_org = tag.find(\"a\", class_=\"bloko-link bloko-link_secondary\")  # the name of organization\n",
    "        \n",
    "        org_link = HOST + vacancy_org[\"href\"][1:]\n",
    "        \n",
    "        vacancy_place = tag.find(\"span\", class_=\"vacancy-serp-item__meta-info\").text.strip()\n",
    "        \n",
    "        vacancy_response = HOST + tag.find(\"div\", class_=\"vacancy-serp-item__controls-item vacancy-serp-item__controls-item_response\").find('a')['href'][1:].strip()\n",
    "        \n",
    "        print(vacancy_place + ' - ', \n",
    "              vacancy_compenstion + '\\n', \n",
    "              vacancy_name.text.strip() + ' - ', \n",
    "              vacancy_url.strip() + '\\n', \n",
    "              vacancy_org.text.strip() + ' - ', \n",
    "              org_link + '\\n',\n",
    "              'Откликнуться -',\n",
    "              vacancy_response + '\\n'\n",
    "             )\n",
    "  \n",
    "    return res"
   ]
  },
  {
   "cell_type": "code",
   "execution_count": 173,
   "id": "3fa2e771-4b81-4a89-82d2-a65d07fa123a",
   "metadata": {},
   "outputs": [
    {
     "name": "stdout",
     "output_type": "stream",
     "text": [
      "Санкт-Петербург -  \n",
      " Senior DevOps/SRE Engineer -  https://chita.hh.ru/vacancy/46172004?query=data%20engineer\n",
      " VIAcode -  https://chita.hh.ru/employer/84051\n",
      " Откликнуться - https://chita.hh.ru/applicant/vacancy_response?vacancyId=46172004&hhtmFrom=vacancy_search_result\n",
      "\n",
      "Москва -  \n",
      " Data Analyst -  https://chita.hh.ru/vacancy/45584228?query=data%20engineer\n",
      " Launch Control -  https://chita.hh.ru/employer/5502536\n",
      " Откликнуться - https://chita.hh.ru/applicant/vacancy_response?vacancyId=45584228&hhtmFrom=vacancy_search_result\n",
      "\n",
      "Санкт-Петербург, Бухарестская -  от 140 000 руб.\n",
      " IOS developer (Удаленная работа) -  https://chita.hh.ru/vacancy/46140704?query=data%20engineer\n",
      " ООО ИТ Лаб -  https://chita.hh.ru/employer/3809433\n",
      " Откликнуться - https://chita.hh.ru/applicant/vacancy_response?vacancyId=46140704&hhtmFrom=vacancy_search_result\n",
      "\n",
      "Москва -  от 4 000 USD\n",
      " Product Manager - Mobile -  https://chita.hh.ru/vacancy/46103170?query=data%20engineer\n",
      " Новакид РУС -  https://chita.hh.ru/employer/851716\n",
      " Откликнуться - https://chita.hh.ru/applicant/vacancy_response?vacancyId=46103170&hhtmFrom=vacancy_search_result\n",
      "\n",
      "Санкт-Петербург -  от 4 000 USD\n",
      " Product Manager - Mobile -  https://chita.hh.ru/vacancy/46103171?query=data%20engineer\n",
      " Новакид РУС -  https://chita.hh.ru/employer/851716\n",
      " Откликнуться - https://chita.hh.ru/applicant/vacancy_response?vacancyId=46103171&hhtmFrom=vacancy_search_result\n",
      "\n",
      "Москва -  \n",
      " Стажер - аналитик (data science, ml engineer, анализ данных, удаленно) -  https://chita.hh.ru/vacancy/46249500?query=data%20engineer\n",
      " ООО МАЙНДСЭТ -  https://chita.hh.ru/employer/3666817\n",
      " Откликнуться - https://chita.hh.ru/applicant/vacancy_response?vacancyId=46249500&hhtmFrom=vacancy_search_result\n",
      "\n",
      "Москва -  4 500 – 6 500 USD\n",
      " Senior Data Scientist -  https://chita.hh.ru/vacancy/45992609?query=data%20engineer\n",
      " DemandMatrix -  https://chita.hh.ru/employer/5210054\n",
      " Откликнуться - https://chita.hh.ru/applicant/vacancy_response?vacancyId=45992609&hhtmFrom=vacancy_search_result\n",
      "\n",
      "Москва -  до 3 000 EUR\n",
      " Senior Python Developer -  https://chita.hh.ru/vacancy/45835639?query=data%20engineer\n",
      " ООО Globus.ai -  https://chita.hh.ru/employer/3194188\n",
      " Откликнуться - https://chita.hh.ru/applicant/vacancy_response?vacancyId=45835639&hhtmFrom=vacancy_search_result\n",
      "\n",
      "Москва -  от 100 000 руб.\n",
      " QA - engineer / WEB-developer -  https://chita.hh.ru/vacancy/42631793?query=data%20engineer\n",
      " ООО Перфект Системс -  https://chita.hh.ru/employer/1713030\n",
      " Откликнуться - https://chita.hh.ru/applicant/vacancy_response?vacancyId=42631793&hhtmFrom=vacancy_search_result\n",
      "\n",
      "Новосибирск -  до 6 000 USD\n",
      " Data Engineer (удаленно) -  https://chita.hh.ru/vacancy/46042972?query=data%20engineer\n",
      " Кадровое агентство Алексея Сухорукова -  https://chita.hh.ru/employer/48184\n",
      " Откликнуться - https://chita.hh.ru/applicant/vacancy_response?vacancyId=46042972&hhtmFrom=vacancy_search_result\n",
      "\n",
      "Москва, Бутырская  и еще 2 -  до 250 000 руб.\n",
      " QA Automation Engineer / Специалист по автоматизированному тестированию -  https://chita.hh.ru/vacancy/45939376?query=data%20engineer\n",
      " АО Эсдиай Солюшен -  https://chita.hh.ru/employer/1228621\n",
      " Откликнуться - https://chita.hh.ru/applicant/vacancy_response?vacancyId=45939376&hhtmFrom=vacancy_search_result\n",
      "\n",
      "Москва, Бутырская  и еще 2 -  50 000 – 100 000 руб.\n",
      " QA Engineer / Специалист ручного тестирования -  https://chita.hh.ru/vacancy/45939371?query=data%20engineer\n",
      " АО Эсдиай Солюшен -  https://chita.hh.ru/employer/1228621\n",
      " Откликнуться - https://chita.hh.ru/applicant/vacancy_response?vacancyId=45939371&hhtmFrom=vacancy_search_result\n",
      "\n",
      "Москва, Бауманская и еще 1 -  \n",
      " Data Engineer -  https://chita.hh.ru/vacancy/43731399?query=data%20engineer\n",
      " СберМегаМаркет -  https://chita.hh.ru/employer/2804795\n",
      " Откликнуться - https://chita.hh.ru/applicant/vacancy_response?vacancyId=43731399&hhtmFrom=vacancy_search_result\n",
      "\n",
      "Москва -  \n",
      " Fintech Product Manager -  https://chita.hh.ru/vacancy/44879805?query=data%20engineer\n",
      " Smartcat -  https://chita.hh.ru/employer/3230136\n",
      " Откликнуться - https://chita.hh.ru/applicant/vacancy_response?vacancyId=44879805&hhtmFrom=vacancy_search_result\n",
      "\n",
      "Москва -  \n",
      " Product Designer -  https://chita.hh.ru/vacancy/44885860?query=data%20engineer\n",
      " Smartcat -  https://chita.hh.ru/employer/3230136\n",
      " Откликнуться - https://chita.hh.ru/applicant/vacancy_response?vacancyId=44885860&hhtmFrom=vacancy_search_result\n",
      "\n",
      "Москва -  \n",
      " Senior Product Designer -  https://chita.hh.ru/vacancy/44886600?query=data%20engineer\n",
      " Smartcat -  https://chita.hh.ru/employer/3230136\n",
      " Откликнуться - https://chita.hh.ru/applicant/vacancy_response?vacancyId=44886600&hhtmFrom=vacancy_search_result\n",
      "\n",
      "Москва -  \n",
      " Разработчик систем мониторинга (BigData) -  https://chita.hh.ru/vacancy/45503693?query=data%20engineer\n",
      " АО РТ Лабс -  https://chita.hh.ru/employer/894410\n",
      " Откликнуться - https://chita.hh.ru/applicant/vacancy_response?vacancyId=45503693&hhtmFrom=vacancy_search_result\n",
      "\n",
      "Калининград -  \n",
      " Senior Data engineer -  https://chita.hh.ru/vacancy/45667929?query=data%20engineer\n",
      " 1C-Битрикс -  https://chita.hh.ru/employer/129044\n",
      " Откликнуться - https://chita.hh.ru/applicant/vacancy_response?vacancyId=45667929&hhtmFrom=vacancy_search_result\n",
      "\n",
      "Москва -  от 300 000 руб.\n",
      " Staff Software Engineer (С#) -  https://chita.hh.ru/vacancy/45831916?query=data%20engineer\n",
      " SIT Alemira -  https://chita.hh.ru/employer/5022461\n",
      " Откликнуться - https://chita.hh.ru/applicant/vacancy_response?vacancyId=45831916&hhtmFrom=vacancy_search_result\n",
      "\n",
      "Москва -  2 000 – 2 800 USD\n",
      " Business (systems) analyst -  https://chita.hh.ru/vacancy/45831778?query=data%20engineer\n",
      " ООО СДевс -  https://chita.hh.ru/employer/1757477\n",
      " Откликнуться - https://chita.hh.ru/applicant/vacancy_response?vacancyId=45831778&hhtmFrom=vacancy_search_result\n",
      "\n"
     ]
    }
   ],
   "source": [
    "res_one_page = get_data(page_bs)"
   ]
  },
  {
   "cell_type": "markdown",
   "id": "fcc6efaa-82b6-436f-922c-18d73a68f649",
   "metadata": {},
   "source": [
    "### Разбор всех страниц"
   ]
  },
  {
   "cell_type": "code",
   "execution_count": 50,
   "id": "044ca921-e409-45d2-a075-00328ca4c36f",
   "metadata": {},
   "outputs": [],
   "source": [
    "def scrape1(base_url):\n",
    "    res = collections.defaultdict(list)\n",
    "    \n",
    "    for page_i_bs in get_all_pages(base_url):\n",
    "        res_i = get_data(page_i_bs)\n",
    "        \n",
    "        # Собираем в основной словарь\n",
    "        for k in res_i.keys():\n",
    "            res[k] += res_i[k]\n",
    "            \n",
    "        # Ждём, чтобы не попасть в чёрный список\n",
    "        print(f'Готово - {}. Ждём перед загрузкой следующей страницы...')\n",
    "        time.sleep(1)\n",
    "    \n",
    "    print('готово')\n",
    "    return res"
   ]
  },
  {
   "cell_type": "code",
   "execution_count": 68,
   "id": "90ebac50-99d3-4667-89a7-45ef896585ac",
   "metadata": {},
   "outputs": [],
   "source": [
    "def scrape(url):\n",
    "    res = collections.defaultdict(list)\n",
    "    print(res)\n",
    "    for page_num in range(PAGES):\n",
    "        print(URL + str(page_num + 1))\n",
    "        get_page_bs(URL + str(page_num))\n",
    "        # Ждём, чтобы не попасть в чёрный список\n",
    "        print(f'Готово - {page_num + 1}. Ждём перед загрузкой следующей страницы...')\n",
    "        time.sleep(1)\n",
    "    print(f'Готово - {page_num + 1} из {PAGES}')\n",
    "    return res    "
   ]
  },
  {
   "cell_type": "code",
   "execution_count": 69,
   "id": "44ec37b2-7d2d-4f16-94f9-7639ca9c030c",
   "metadata": {
    "tags": []
   },
   "outputs": [
    {
     "name": "stdout",
     "output_type": "stream",
     "text": [
      "defaultdict(<class 'list'>, {})\n",
      "https://chita.hh.ru/search/vacancy?st=searchVacancy&text=data+engineer&area=113&salary=&currency_code=RUR&experience=doesNotMatter&schedule=remote&order_by=publication_time&search_period=3&items_on_page=20&no_magic=true&L_save_area=true&page=1\n",
      "Готово - 1. Ждём перед загрузкой следующей страницы...\n",
      "https://chita.hh.ru/search/vacancy?st=searchVacancy&text=data+engineer&area=113&salary=&currency_code=RUR&experience=doesNotMatter&schedule=remote&order_by=publication_time&search_period=3&items_on_page=20&no_magic=true&L_save_area=true&page=2\n",
      "Готово - 2. Ждём перед загрузкой следующей страницы...\n",
      "https://chita.hh.ru/search/vacancy?st=searchVacancy&text=data+engineer&area=113&salary=&currency_code=RUR&experience=doesNotMatter&schedule=remote&order_by=publication_time&search_period=3&items_on_page=20&no_magic=true&L_save_area=true&page=3\n",
      "Готово - 3. Ждём перед загрузкой следующей страницы...\n",
      "https://chita.hh.ru/search/vacancy?st=searchVacancy&text=data+engineer&area=113&salary=&currency_code=RUR&experience=doesNotMatter&schedule=remote&order_by=publication_time&search_period=3&items_on_page=20&no_magic=true&L_save_area=true&page=4\n",
      "Готово - 4. Ждём перед загрузкой следующей страницы...\n",
      "https://chita.hh.ru/search/vacancy?st=searchVacancy&text=data+engineer&area=113&salary=&currency_code=RUR&experience=doesNotMatter&schedule=remote&order_by=publication_time&search_period=3&items_on_page=20&no_magic=true&L_save_area=true&page=5\n",
      "Готово - 5. Ждём перед загрузкой следующей страницы...\n",
      "https://chita.hh.ru/search/vacancy?st=searchVacancy&text=data+engineer&area=113&salary=&currency_code=RUR&experience=doesNotMatter&schedule=remote&order_by=publication_time&search_period=3&items_on_page=20&no_magic=true&L_save_area=true&page=6\n",
      "Готово - 6. Ждём перед загрузкой следующей страницы...\n",
      "https://chita.hh.ru/search/vacancy?st=searchVacancy&text=data+engineer&area=113&salary=&currency_code=RUR&experience=doesNotMatter&schedule=remote&order_by=publication_time&search_period=3&items_on_page=20&no_magic=true&L_save_area=true&page=7\n",
      "Готово - 7. Ждём перед загрузкой следующей страницы...\n",
      "https://chita.hh.ru/search/vacancy?st=searchVacancy&text=data+engineer&area=113&salary=&currency_code=RUR&experience=doesNotMatter&schedule=remote&order_by=publication_time&search_period=3&items_on_page=20&no_magic=true&L_save_area=true&page=8\n",
      "Готово - 8. Ждём перед загрузкой следующей страницы...\n",
      "https://chita.hh.ru/search/vacancy?st=searchVacancy&text=data+engineer&area=113&salary=&currency_code=RUR&experience=doesNotMatter&schedule=remote&order_by=publication_time&search_period=3&items_on_page=20&no_magic=true&L_save_area=true&page=9\n",
      "Готово - 9. Ждём перед загрузкой следующей страницы...\n",
      "https://chita.hh.ru/search/vacancy?st=searchVacancy&text=data+engineer&area=113&salary=&currency_code=RUR&experience=doesNotMatter&schedule=remote&order_by=publication_time&search_period=3&items_on_page=20&no_magic=true&L_save_area=true&page=10\n",
      "Готово - 10. Ждём перед загрузкой следующей страницы...\n",
      "Готово - 10 из 10\n"
     ]
    }
   ],
   "source": [
    "res = scrape(URL)"
   ]
  },
  {
   "cell_type": "code",
   "execution_count": null,
   "id": "98652c29-ed5c-4dd1-bbb2-546965eb592b",
   "metadata": {},
   "outputs": [],
   "source": []
  }
 ],
 "metadata": {
  "kernelspec": {
   "display_name": "Python 3",
   "language": "python",
   "name": "python3"
  },
  "language_info": {
   "codemirror_mode": {
    "name": "ipython",
    "version": 3
   },
   "file_extension": ".py",
   "mimetype": "text/x-python",
   "name": "python",
   "nbconvert_exporter": "python",
   "pygments_lexer": "ipython3",
   "version": "3.8.10"
  }
 },
 "nbformat": 4,
 "nbformat_minor": 5
}
